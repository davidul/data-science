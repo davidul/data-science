{
 "cells": [
  {
   "attachments": {},
   "cell_type": "markdown",
   "metadata": {},
   "source": [
    "# Addition and subtraction\n",
    "Add or subtract the corresponding elements.\n",
    "Matrices must have the same dimensions.\n",
    "\n",
    "Commutative and associative\n",
    "\n",
    "$$ A + B = B + A$$\n",
    "$$ A + (B + C) = (A + B) + C $$\n",
    "\n",
    "\n",
    "## Shifting\n",
    "Multiply identity matrix by a scalar\n",
    "\n",
    "$A + \\lambda I = C $"
   ]
  },
  {
   "attachments": {},
   "cell_type": "markdown",
   "metadata": {},
   "source": []
  },
  {
   "cell_type": "code",
   "execution_count": 2,
   "metadata": {},
   "outputs": [
    {
     "data": {
      "text/plain": [
       "array([[ 0.46741913,  2.51815595,  0.31276976, -2.42199553],\n",
       "       [ 0.04922817, -0.66974715,  0.02595042,  1.14599757],\n",
       "       [ 0.84633978,  0.54000226,  2.20968744,  2.39101166],\n",
       "       [ 1.15872376, -0.76445295,  3.68437215,  3.76865855],\n",
       "       [ 0.54007979,  0.95235479,  2.29805521,  0.87125431]])"
      ]
     },
     "execution_count": 2,
     "metadata": {},
     "output_type": "execute_result"
    }
   ],
   "source": [
    "import numpy as np\n",
    "\n",
    "A = np.random.randn(5,4)\n",
    "B = np.random.randn(5,3)\n",
    "C = np.random.randn(5,4)\n",
    "\n",
    "A+B # error\n",
    "A+C"
   ]
  },
  {
   "cell_type": "code",
   "execution_count": 6,
   "metadata": {},
   "outputs": [
    {
     "name": "stdout",
     "output_type": "stream",
     "text": [
      "[[-0.26463083 -0.89588622  0.56791313 -0.21024336]\n",
      " [ 0.03597213 -0.03680255  0.27260118 -0.78825242]\n",
      " [ 0.05064755 -0.61345504  0.60943831  0.17403148]\n",
      " [-0.78516681 -0.86595057 -1.97158025  0.57991567]]\n",
      " \n",
      "[[ 0.03536917 -0.89588622  0.56791313 -0.21024336]\n",
      " [ 0.03597213  0.26319745  0.27260118 -0.78825242]\n",
      " [ 0.05064755 -0.61345504  0.90943831  0.17403148]\n",
      " [-0.78516681 -0.86595057 -1.97158025  0.87991567]]\n"
     ]
    }
   ],
   "source": [
    "# shifting matrix\n",
    "l = .3\n",
    "N = 4\n",
    "D = np.random.randn(N,N) # can only shift square matrix\n",
    "\n",
    "Ds = D + l * np.eye(N)\n",
    "print(D)\n",
    "print(' ')\n",
    "print(Ds)"
   ]
  },
  {
   "attachments": {},
   "cell_type": "markdown",
   "metadata": {},
   "source": [
    "## Multiply by scalar\n",
    "Multiply every element by scalar.\n",
    "\n",
    "$\\delta MA = M\\delta A = MA\\delta $"
   ]
  },
  {
   "cell_type": "code",
   "execution_count": 7,
   "metadata": {},
   "outputs": [
    {
     "name": "stdout",
     "output_type": "stream",
     "text": [
      "[[ 2  4]\n",
      " [ 4 10]]\n",
      "[[ 2  4]\n",
      " [ 4 10]]\n"
     ]
    }
   ],
   "source": [
    "M = np.array([ [1,2], [2,5]])\n",
    "s = 2\n",
    "print(M*s)\n",
    "print(s*M)"
   ]
  },
  {
   "attachments": {},
   "cell_type": "markdown",
   "metadata": {},
   "source": [
    "## Transpose\n",
    "First row become first column\n",
    "\n",
    "$A^{TT} = A$"
   ]
  },
  {
   "cell_type": "code",
   "execution_count": 9,
   "metadata": {},
   "outputs": [
    {
     "name": "stdout",
     "output_type": "stream",
     "text": [
      "[[1 2 3]\n",
      " [2 3 4]]\n",
      " \n",
      "[[1 2]\n",
      " [2 3]\n",
      " [3 4]]\n",
      " \n",
      "[[1 2 3]\n",
      " [2 3 4]]\n",
      " \n",
      "[[1 2]\n",
      " [2 3]\n",
      " [3 4]]\n"
     ]
    }
   ],
   "source": [
    "M = np.array([\n",
    "    [1,2,3],\n",
    "    [2,3,4]\n",
    "])\n",
    "\n",
    "print(M)\n",
    "print(' ')\n",
    "print(M.T)\n",
    "print(' ')\n",
    "print(M.T.T)\n",
    "print(' ')\n",
    "print(np.transpose(M))"
   ]
  },
  {
   "attachments": {},
   "cell_type": "markdown",
   "metadata": {},
   "source": [
    "## Diagonal and trace\n",
    "Trace is sum of all diagonal elements. Trace is defined only for square matrices.\n",
    "\n",
    "Diagonal \n",
    "\n",
    "$v_i = A_{i,i} , i = \\{ 1,2,...,min(m,n)\\}$\n",
    "\n",
    "Trace\n",
    "\n",
    "$ tr(A) = \\Sigma_{i=1}^m A_{i,i}$"
   ]
  },
  {
   "cell_type": "code",
   "execution_count": 11,
   "metadata": {},
   "outputs": [
    {
     "name": "stdout",
     "output_type": "stream",
     "text": [
      "[-5. -2.  2.  5.]\n",
      "[[-5.  0.  0.  0.]\n",
      " [ 0. -2.  0.  0.]\n",
      " [ 0.  0.  2.  0.]\n",
      " [ 0.  0.  0.  5.]]\n",
      "0.0 0.0\n"
     ]
    }
   ],
   "source": [
    "M = np.round(5*np.random.randn(4,4))\n",
    "\n",
    "d = np.diag(M) # input is matrix, output is vector\n",
    "D = np.diag(d) # input is vector, output is matrix\n",
    "\n",
    "print(d)\n",
    "print(D)\n",
    "\n",
    "tr = np.trace(M)\n",
    "tr2 = sum(np.diag(M))\n",
    "print(tr, tr2)\n"
   ]
  },
  {
   "attachments": {},
   "cell_type": "markdown",
   "metadata": {},
   "source": [
    "## Broadcasting\n"
   ]
  },
  {
   "cell_type": "code",
   "execution_count": 17,
   "metadata": {},
   "outputs": [
    {
     "name": "stdout",
     "output_type": "stream",
     "text": [
      "[[ 1  4  7 10]\n",
      " [ 2  5  8 11]\n",
      " [ 3  6  9 12]]\n",
      " \n",
      "[10, 20, 30, 40]\n",
      " \n",
      "[100, 200, 300]\n",
      " \n"
     ]
    },
    {
     "data": {
      "text/plain": [
       "(None, None)"
      ]
     },
     "execution_count": 17,
     "metadata": {},
     "output_type": "execute_result"
    }
   ],
   "source": [
    "A = np.reshape(np.arange(1,13),(3,4),'F') # F-column, C=row\n",
    "\n",
    "r = [10,20,30,40]\n",
    "c = [100,200,300]\n",
    "print(A), print(' ')\n",
    "print(r), print(' ')\n",
    "print(c), print(' ')"
   ]
  },
  {
   "cell_type": "code",
   "execution_count": 22,
   "metadata": {},
   "outputs": [
    {
     "name": "stdout",
     "output_type": "stream",
     "text": [
      "[[11 24 37 50]\n",
      " [12 25 38 51]\n",
      " [13 26 39 52]]\n",
      " \n",
      "[[101 104 107 110]\n",
      " [202 205 208 211]\n",
      " [303 306 309 312]]\n"
     ]
    }
   ],
   "source": [
    "# broadcast on the rows\n",
    "print(A+r), print(' ') # illegal in normal linear algebra\n",
    "\n",
    "# broadcast on the colums\n",
    "# print(A+c) # does not work on columns\n",
    "# reshape to column vector\n",
    "print(A + np.reshape(c, (len(c),1)))"
   ]
  },
  {
   "attachments": {},
   "cell_type": "markdown",
   "metadata": {},
   "source": []
  },
  {
   "attachments": {},
   "cell_type": "markdown",
   "metadata": {},
   "source": []
  }
 ],
 "metadata": {
  "kernelspec": {
   "display_name": "tf",
   "language": "python",
   "name": "python3"
  },
  "language_info": {
   "codemirror_mode": {
    "name": "ipython",
    "version": 3
   },
   "file_extension": ".py",
   "mimetype": "text/x-python",
   "name": "python",
   "nbconvert_exporter": "python",
   "pygments_lexer": "ipython3",
   "version": "3.9.16"
  },
  "orig_nbformat": 4
 },
 "nbformat": 4,
 "nbformat_minor": 2
}
