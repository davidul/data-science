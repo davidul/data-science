{
 "cells": [
  {
   "attachments": {},
   "cell_type": "markdown",
   "metadata": {},
   "source": [
    "# Matrices\n",
    "\n",
    "- [Addition and Substraction](#Addition-and-subtraction)\n",
    "- [Shifting](#Shifting)\n",
    "- [Multiply by scalar](#multiply-by-scalar)\n",
    "- [Transpose](#transpose)\n",
    "\n",
    "Matrices are a rectangular array of numbers. They are used to represent linear transformations.\n",
    "\n",
    "Matrix types:\n",
    "\n",
    "- Square (NxN)\n",
    "- Rectangular (MxN)\n",
    "- Symmetric (is squared)\n",
    "- Skew Symmetric (opposite numbers acros diagonal)\n",
    "- Identity (all 1 on diagonal, 0 otherwise) -  square and symmetric\n",
    "- Zero (all zeros)\n",
    "- Diagonal (non-zero on diagonal, otherwise 0)\n",
    "- Upper triangular\n",
    "- Lower triangular\n",
    "- Concatenated "
   ]
  },
  {
   "cell_type": "code",
   "execution_count": 18,
   "metadata": {},
   "outputs": [
    {
     "name": "stdout",
     "output_type": "stream",
     "text": [
      "[[1 4 8]\n",
      " [6 6 6]\n",
      " [2 6 5]]\n",
      " \n",
      "[[4 8]\n",
      " [8 2]\n",
      " [1 6]] \n",
      "\n",
      "=======================\n",
      "Identity\n",
      "[[1. 0. 0.]\n",
      " [0. 1. 0.]\n",
      " [0. 0. 1.]] \n",
      "\n",
      "=======================\n",
      "Zeros\n",
      "[[0. 0. 0.]\n",
      " [0. 0. 0.]\n",
      " [0. 0. 0.]] \n",
      "\n",
      "=======================\n",
      "Diagonal\n",
      "[[1 0 0]\n",
      " [0 2 0]\n",
      " [0 0 3]] \n",
      "\n"
     ]
    }
   ],
   "source": [
    "import numpy as np\n",
    "\n",
    "S = np.random.randint(1,10,(3,3)) # square\n",
    "R = np.random.randint(1,10,(3,2)) # rectangular\n",
    "print(S)\n",
    "print(' ')\n",
    "print(R, '\\n')\n",
    "\n",
    "print('=======================')\n",
    "\n",
    "# Identity - square matrix with ones on the diagonal\n",
    "I = np.eye(3)\n",
    "print('Identity')\n",
    "print(I, '\\n')\n",
    "print('=======================')\n",
    "\n",
    "# Zeros - all zeros\n",
    "print('Zeros')\n",
    "Z = np.zeros((3,3))\n",
    "print(Z, '\\n')\n",
    "print('=======================')\n",
    "# diagonal - square matrix with specified diagonal\n",
    "print('Diagonal')\n",
    "D = np.diag([1,2,3])\n",
    "print(D, '\\n')"
   ]
  },
  {
   "cell_type": "code",
   "execution_count": 11,
   "metadata": {},
   "outputs": [
    {
     "name": "stdout",
     "output_type": "stream",
     "text": [
      "[[4 4 2]\n",
      " [0 4 4]\n",
      " [0 0 5]] \n",
      "\n",
      "[[4 0 0]\n",
      " [1 4 0]\n",
      " [9 6 5]] \n",
      "\n",
      "[[4 3 3 1 3 9 7 1]\n",
      " [8 5 3 7 2 2 7 9]\n",
      " [7 3 6 3 8 3 4 7]] \n",
      "\n"
     ]
    }
   ],
   "source": [
    "import numpy as np\n",
    "# triangular\n",
    "S = np.random.randint(1,10,(3,3))\n",
    "U = np.triu(S) # upper triangular\n",
    "L = np.tril(S) # lower triangular\n",
    "print(U, '\\n')\n",
    "print(L, '\\n')\n",
    "\n",
    "# Concatenate matrices\n",
    "A = np.random.randint(1,10,(3,4))\n",
    "B = np.random.randint(1,10, (3,4))\n",
    "C = np.concatenate((A,B), axis=1)\n",
    "print(C, '\\n')"
   ]
  },
  {
   "cell_type": "markdown",
   "metadata": {},
   "source": [
    "Symmetric matrix:\n",
    "\n",
    "$$ A = \\begin{bmatrix} 1 & 2 & 3 \\\\ 2 & 4 & 5 \\\\ 3 & 5 & 6 \\end{bmatrix} $$\n",
    "\n",
    "$$ A = A^T $$"
   ]
  },
  {
   "cell_type": "code",
   "execution_count": 16,
   "metadata": {},
   "outputs": [
    {
     "name": "stdout",
     "output_type": "stream",
     "text": [
      "[[1 2 3]\n",
      " [2 4 5]\n",
      " [3 5 6]] \n",
      "\n",
      "[[1 2 3]\n",
      " [2 4 5]\n",
      " [3 5 6]] \n",
      "\n"
     ]
    }
   ],
   "source": [
    "import numpy as np  \n",
    "# Transpose\n",
    "A = np.array([[1,2,3],[2,4,5],[3,5,6]])\n",
    "print(A, '\\n')\n",
    "print(A.T, '\\n')"
   ]
  },
  {
   "attachments": {},
   "cell_type": "markdown",
   "metadata": {},
   "source": [
    "## Addition and subtraction\n",
    "Add or subtract the corresponding elements.\n",
    "Matrices must have the same dimensions.\n",
    "\n",
    "Commutative and associative\n",
    "\n",
    "$$ A + B = B + A$$\n",
    "$$ A + (B + C) = (A + B) + C $$\n",
    "\n",
    "\n",
    "## Shifting\n",
    "Multiply identity matrix by a scalar\n",
    "\n",
    "$A + \\lambda I = C $"
   ]
  },
  {
   "cell_type": "code",
   "execution_count": 15,
   "metadata": {},
   "outputs": [
    {
     "data": {
      "text/plain": [
       "array([[14, 11,  5,  6],\n",
       "       [ 5, 14,  9,  7],\n",
       "       [10,  9, 10,  4],\n",
       "       [10, 14,  6,  7],\n",
       "       [ 6, 16, 13, 12]])"
      ]
     },
     "execution_count": 15,
     "metadata": {},
     "output_type": "execute_result"
    }
   ],
   "source": [
    "import numpy as np\n",
    "\n",
    "A = np.random.randint(1,10, (5,4)) # 5x4\n",
    "B = np.random.randint(1,10, (5,3)) # 5x3\n",
    "C = np.random.randint(1,10, (5,4)) # 5x4\n",
    "\n",
    "#A+B # error - not same shape\n",
    "A+C # ok - same shape"
   ]
  },
  {
   "cell_type": "code",
   "execution_count": 16,
   "metadata": {},
   "outputs": [
    {
     "name": "stdout",
     "output_type": "stream",
     "text": [
      "[[8 4 5 8]\n",
      " [5 5 5 8]\n",
      " [5 6 2 8]\n",
      " [8 4 3 6]]\n",
      " \n",
      "[[8.3 4.  5.  8. ]\n",
      " [5.  5.3 5.  8. ]\n",
      " [5.  6.  2.3 8. ]\n",
      " [8.  4.  3.  6.3]]\n"
     ]
    }
   ],
   "source": [
    "import numpy as np\n",
    "# shifting matrix\n",
    "l = .3\n",
    "N = 4\n",
    "D = np.random.randint(1,10, (N,N)) # can only shift square matrix\n",
    "\n",
    "Ds = D + l * np.eye(N) # shift diagonal\n",
    "print(D)\n",
    "print(' ')\n",
    "print(Ds)"
   ]
  },
  {
   "attachments": {},
   "cell_type": "markdown",
   "metadata": {},
   "source": [
    "## Multiply by scalar\n",
    "Multiply every element by scalar.\n",
    "\n",
    "$\\delta MA = M\\delta A = MA\\delta $"
   ]
  },
  {
   "cell_type": "code",
   "execution_count": 7,
   "metadata": {},
   "outputs": [
    {
     "name": "stdout",
     "output_type": "stream",
     "text": [
      "[[ 2  4]\n",
      " [ 4 10]]\n",
      "[[ 2  4]\n",
      " [ 4 10]]\n"
     ]
    }
   ],
   "source": [
    "import numpy as np\n",
    "M = np.array([ [1,2], [2,5]])\n",
    "s = 2\n",
    "print(M*s)\n",
    "print(s*M)"
   ]
  },
  {
   "attachments": {},
   "cell_type": "markdown",
   "metadata": {},
   "source": [
    "## Transpose\n",
    "First row become first column\n",
    "\n",
    "$A^{TT} = A$"
   ]
  },
  {
   "cell_type": "code",
   "execution_count": 9,
   "metadata": {},
   "outputs": [
    {
     "name": "stdout",
     "output_type": "stream",
     "text": [
      "[[1 2 3]\n",
      " [2 3 4]]\n",
      " \n",
      "[[1 2]\n",
      " [2 3]\n",
      " [3 4]]\n",
      " \n",
      "[[1 2 3]\n",
      " [2 3 4]]\n",
      " \n",
      "[[1 2]\n",
      " [2 3]\n",
      " [3 4]]\n"
     ]
    }
   ],
   "source": [
    "M = np.array([\n",
    "    [1,2,3],\n",
    "    [2,3,4]\n",
    "])\n",
    "\n",
    "print(M)\n",
    "print(' ')\n",
    "print(M.T)\n",
    "print(' ')\n",
    "print(M.T.T)\n",
    "print(' ')\n",
    "print(np.transpose(M))"
   ]
  },
  {
   "attachments": {},
   "cell_type": "markdown",
   "metadata": {},
   "source": [
    "## Diagonal and trace\n",
    "Trace is sum of all diagonal elements. Trace is defined only for square matrices.\n",
    "\n",
    "Diagonal \n",
    "\n",
    "$v_i = A_{i,i} , i = \\{ 1,2,...,min(m,n)\\}$\n",
    "\n",
    "Trace\n",
    "\n",
    "$ tr(A) = \\Sigma_{i=1}^m A_{i,i}$"
   ]
  },
  {
   "cell_type": "code",
   "execution_count": 11,
   "metadata": {},
   "outputs": [
    {
     "name": "stdout",
     "output_type": "stream",
     "text": [
      "[-5. -2.  2.  5.]\n",
      "[[-5.  0.  0.  0.]\n",
      " [ 0. -2.  0.  0.]\n",
      " [ 0.  0.  2.  0.]\n",
      " [ 0.  0.  0.  5.]]\n",
      "0.0 0.0\n"
     ]
    }
   ],
   "source": [
    "M = np.round(5*np.random.randn(4,4))\n",
    "\n",
    "d = np.diag(M) # input is matrix, output is vector\n",
    "D = np.diag(d) # input is vector, output is matrix\n",
    "\n",
    "print(d)\n",
    "print(D)\n",
    "\n",
    "tr = np.trace(M)\n",
    "tr2 = sum(np.diag(M))\n",
    "print(tr, tr2)\n"
   ]
  },
  {
   "attachments": {},
   "cell_type": "markdown",
   "metadata": {},
   "source": [
    "## Broadcasting\n"
   ]
  },
  {
   "cell_type": "code",
   "execution_count": 17,
   "metadata": {},
   "outputs": [
    {
     "name": "stdout",
     "output_type": "stream",
     "text": [
      "[[ 1  4  7 10]\n",
      " [ 2  5  8 11]\n",
      " [ 3  6  9 12]]\n",
      " \n",
      "[10, 20, 30, 40]\n",
      " \n",
      "[100, 200, 300]\n",
      " \n"
     ]
    },
    {
     "data": {
      "text/plain": [
       "(None, None)"
      ]
     },
     "execution_count": 17,
     "metadata": {},
     "output_type": "execute_result"
    }
   ],
   "source": [
    "A = np.reshape(np.arange(1,13),(3,4),'F') # F-column, C=row\n",
    "\n",
    "r = [10,20,30,40]\n",
    "c = [100,200,300]\n",
    "print(A), print(' ')\n",
    "print(r), print(' ')\n",
    "print(c), print(' ')"
   ]
  },
  {
   "cell_type": "code",
   "execution_count": 22,
   "metadata": {},
   "outputs": [
    {
     "name": "stdout",
     "output_type": "stream",
     "text": [
      "[[11 24 37 50]\n",
      " [12 25 38 51]\n",
      " [13 26 39 52]]\n",
      " \n",
      "[[101 104 107 110]\n",
      " [202 205 208 211]\n",
      " [303 306 309 312]]\n"
     ]
    }
   ],
   "source": [
    "# broadcast on the rows\n",
    "print(A+r), print(' ') # illegal in normal linear algebra\n",
    "\n",
    "# broadcast on the colums\n",
    "# print(A+c) # does not work on columns\n",
    "# reshape to column vector\n",
    "print(A + np.reshape(c, (len(c),1)))"
   ]
  },
  {
   "cell_type": "markdown",
   "metadata": {},
   "source": [
    "## Frobenius Norm\n",
    "\n",
    "$$ ||A||_F = \\sqrt{\\Sigma_{i=1}^m \\Sigma_{j=1}^n A_{i,j}^2} $$\n",
    "\n",
    "Measure of size of matrix in Euclidean space.\n",
    "It is the sum of magnitude of all the vectors in the matrix."
   ]
  },
  {
   "cell_type": "code",
   "execution_count": 13,
   "metadata": {},
   "outputs": [
    {
     "name": "stdout",
     "output_type": "stream",
     "text": [
      "5.477225575051661\n",
      "5.477225575051661\n",
      "5.4772257804870605\n"
     ]
    }
   ],
   "source": [
    "import numpy as np\n",
    "import torch\n",
    "\n",
    "X = np.array([[1,2],[3,4]])\n",
    "Fnorm = (1**2 + 2**2 + 3**2 + 4**2)**.5\n",
    "print(Fnorm)\n",
    "Fnorm_np = np.linalg.norm(X)\n",
    "print(Fnorm_np)\n",
    "Fnorm_t = torch.norm(torch.tensor(X, dtype=torch.float))\n",
    "print(Fnorm_t.item())"
   ]
  },
  {
   "cell_type": "markdown",
   "metadata": {},
   "source": [
    "## Inverse\n",
    "Matrix inverse is a matrix that gives identity matrix when multiplied by original matrix.\n",
    "$$ A^{-1}A = AA^{-1} = I $$\n",
    "\n",
    "Solution of\n",
    "$$ Ax = b $$\n",
    "is\n",
    "$$ A^{-1}Ax = A^{-1}b $$\n",
    "$$ Ix = A^{-1}b $$\n",
    "$$ x = A^{-1}b $$"
   ]
  },
  {
   "cell_type": "code",
   "execution_count": 3,
   "metadata": {},
   "outputs": [
    {
     "data": {
      "text/plain": [
       "array([[-1.],\n",
       "       [ 4.]])"
      ]
     },
     "execution_count": 3,
     "metadata": {},
     "output_type": "execute_result"
    }
   ],
   "source": [
    "import numpy as np\n",
    "\n",
    "A = np.array([[4,2],[-5,-3]])\n",
    "Ainv = np.linalg.inv(A)\n",
    "b = np.array([[4],[-7]])\n",
    "x = np.dot(Ainv,b)\n",
    "x"
   ]
  },
  {
   "cell_type": "code",
   "execution_count": null,
   "metadata": {},
   "outputs": [],
   "source": []
  }
 ],
 "metadata": {
  "kernelspec": {
   "display_name": "tf",
   "language": "python",
   "name": "python3"
  },
  "language_info": {
   "codemirror_mode": {
    "name": "ipython",
    "version": 3
   },
   "file_extension": ".py",
   "mimetype": "text/x-python",
   "name": "python",
   "nbconvert_exporter": "python",
   "pygments_lexer": "ipython3",
   "version": "3.9.16"
  },
  "orig_nbformat": 4
 },
 "nbformat": 4,
 "nbformat_minor": 2
}
