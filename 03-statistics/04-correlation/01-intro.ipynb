{
 "cells": [
  {
   "cell_type": "markdown",
   "metadata": {},
   "source": [
    "# Correlation\n",
    "\n",
    "Correlation is a measure of the strength of the relationship between two variables. It is a measure of how things are related. The stronger the relationship between the variables, the higher the correlation between them.\n",
    "\n",
    "Correlation is a statistical measure that indicates the extent to which two or more variables fluctuate together. A positive correlation indicates the extent to which those variables increase or decrease in parallel; a negative correlation indicates the extent to which one variable increases as the other decreases.\n",
    "\n",
    "Correlation coefficients are used to measure how strong a relationship is between two variables. There are several types of correlation coefficient:\n",
    "\n",
    "Correlation coefficient varies between -1 and +1. Where -1 indicates a perfect negative correlation, +1 indicates a perfect positive correlation, and 0 indicates no correlation at all.\n",
    "\n",
    "It does not reveal or imply causation between variables.\n",
    "\n",
    "Covariance is a single number that tells how much two random variables varies together. It is a measure of how much two variables change together. If the greater values of one variable mainly correspond with the greater values of the other variable, and the same holds for the smaller values, i.e., the variables tend to show similar behavior, the covariance is positive. In the opposite case, when the greater values of one variable mainly correspond to the smaller values of the other, i.e., the variables tend to show opposite behavior, the covariance is negative.\n",
    "\n",
    "Covariance is in same scale as original data. It is not standardized.\n",
    "\n",
    "Covariance formula:\n",
    "$\\sigma_{xy} = \\frac{\\sum_{i=1}^{n}(x_i - \\mu_x)(y_i - \\mu_y)}{n}$\n",
    "\n",
    "Correlation is scaled covariance (-1,1).\n",
    "\n",
    "Correlation formula:\n",
    "$\\rho_{xy} = \\frac{\\sigma_{xy}}{\\sigma_x \\sigma_y} = \\frac{\\sum_{i=1}^{n}(x_i - \\mu_x)(y_i - \\mu_y)}{\\sqrt{\\sum_{i=1}^{n}(x_i - \\mu_x)^2}\\sqrt{\\sum_{i=1}^{n}(y_i - \\mu_y)^2}}$\n",
    "\n",
    "P-value for correlation coefficient $r$:\n",
    "$t_{n-2} = \\frac{r \\sqrt{n-2}}{1-r^2}$\n",
    "Statistical significance is computed using the t-statistic and the degrees of freedom. The degrees of freedom is n-2 for a correlation."
   ]
  },
  {
   "cell_type": "code",
   "execution_count": null,
   "metadata": {},
   "outputs": [],
   "source": []
  }
 ],
 "metadata": {
  "kernelspec": {
   "display_name": "tf",
   "language": "python",
   "name": "python3"
  },
  "language_info": {
   "name": "python",
   "version": "3.9.16"
  },
  "orig_nbformat": 4
 },
 "nbformat": 4,
 "nbformat_minor": 2
}
