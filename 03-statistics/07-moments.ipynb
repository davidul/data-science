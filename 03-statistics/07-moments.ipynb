{
 "cells": [
  {
   "attachments": {},
   "cell_type": "markdown",
   "metadata": {},
   "source": [
    "# Statistical moments\n",
    "General Formula\n",
    "$$ m_k = n^{-1} \\Sigma_{i=1}^{n} (x_i - \\bar{x})^k$$\n",
    "\n",
    "Firs moment: mean $ m_1 = n^{-1} \\Sigma_{i=1}^{n} x_i$\n",
    "\n",
    "Second moment: variance $ m_2 = n^{-1} \\Sigma_{i=1}^{n} (x_i - \\bar{x})^2$\n",
    "\n",
    "## Standardize statistical moments\n",
    "Mean: Average of the data $ \\bar{x} = n^{-1} \\Sigma_{i=1}^{n} x_i$\n",
    "\n",
    "Variance: Average of the squared differences from the mean $ \\sigma^2 = n^{-1} \\Sigma_{i=1}^{n} (x_i - \\bar{x})^2$\n",
    "\n",
    "Skewness: Measure of the asymmetry of the probability distribution of a real-valued random variable about its mean $ \\gamma = n^{-1} \\Sigma_{i=1}^{n} (x_i - \\bar{x})^3$\n",
    "\n",
    "Kurtosis: Measure of the \"tailedness\" of the probability distribution of a real-valued random variable $ \\kappa = n^{-1} \\Sigma_{i=1}^{n} (x_i - \\bar{x})^4$\n"
   ]
  },
  {
   "cell_type": "code",
   "execution_count": null,
   "metadata": {},
   "outputs": [],
   "source": []
  }
 ],
 "metadata": {
  "language_info": {
   "name": "python"
  },
  "orig_nbformat": 4
 },
 "nbformat": 4,
 "nbformat_minor": 2
}
