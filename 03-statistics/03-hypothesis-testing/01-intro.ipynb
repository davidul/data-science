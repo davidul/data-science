{
 "cells": [
  {
   "attachments": {},
   "cell_type": "markdown",
   "metadata": {},
   "source": [
    "DV: Dependent Variable - variable that is being measured\n",
    "\n",
    "IV: Independent Variable - variable that is being manipulated\n",
    "\n",
    "Example: effects of soil moisture on plant growth\n",
    "- soil moisture is the independent variable\n",
    "- plant growth is the dependent variable\n",
    "\n",
    "Null Hypothesis: The null hypothesis is a general statement or default position that there is no relationship between two measured phenomena, or no association among groups.\n"
   ]
  },
  {
   "cell_type": "code",
   "execution_count": null,
   "metadata": {},
   "outputs": [],
   "source": []
  }
 ],
 "metadata": {
  "language_info": {
   "name": "python"
  },
  "orig_nbformat": 4
 },
 "nbformat": 4,
 "nbformat_minor": 2
}
