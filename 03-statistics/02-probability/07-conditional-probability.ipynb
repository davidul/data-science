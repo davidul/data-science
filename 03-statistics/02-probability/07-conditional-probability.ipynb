{
 "cells": [
  {
   "attachments": {},
   "cell_type": "markdown",
   "metadata": {},
   "source": [
    "# Conditional probability\n",
    "Conditional probability is the probability of an event given that another event has occurred. It is the probability of event A given that event B has occurred. It is denoted as P(A|B), and is read as the probability of A given B.\n",
    "\n",
    "The formula for conditional probability is given by:\n",
    "$$P(A|B) = \\frac{P(A \\cap B)}{P(B)}$$\n",
    "where P(A ∩ B) is the probability of both events A and B occurring.\n",
    "\n",
    "The conditional probability of A given B can also be calculated using the formula:\n",
    "$$P(A|B) = \\frac{P(A)P(B|A)}{P(B)}$$\n",
    "where P(B|A) is the probability of event B given that event A has occurred."
   ]
  },
  {
   "cell_type": "code",
   "execution_count": 2,
   "metadata": {},
   "outputs": [
    {
     "name": "stdout",
     "output_type": "stream",
     "text": [
      "Intel MKL WARNING: Support of Intel(R) Streaming SIMD Extensions 4.2 (Intel(R) SSE4.2) enabled only processors has been deprecated. Intel oneAPI Math Kernel Library 2025.0 will require Intel(R) Advanced Vector Extensions (Intel(R) AVX) instructions.\n",
      "Intel MKL WARNING: Support of Intel(R) Streaming SIMD Extensions 4.2 (Intel(R) SSE4.2) enabled only processors has been deprecated. Intel oneAPI Math Kernel Library 2025.0 will require Intel(R) Advanced Vector Extensions (Intel(R) AVX) instructions.\n"
     ]
    }
   ],
   "source": [
    "import numpy as np\n",
    "import matplotlib.pyplot as plt"
   ]
  },
  {
   "cell_type": "code",
   "execution_count": 3,
   "metadata": {},
   "outputs": [],
   "source": [
    "# generate two long-spike time series\n",
    "\n",
    "N = 10000\n",
    "spikeDuration = 10\n",
    "spikeNumA = 0.01\n",
    "spikeNumB = 0.05\n",
    "\n",
    "spike_tsA = np.zeros(N)\n",
    "spike_tsB = np.zeros(N)\n",
    "\n",
    "spikeTimesA = np.random.randint(0, N, int(N*spikeNumA))\n",
    "\n",
    "for t in range(len(spikeTimesA)):\n",
    "    bnd_pre = int(max(0, spikeTimesA[t] - spikeDuration/2))\n",
    "    bnd_post = int(min(N, spikeTimesA[t] + spikeDuration/2))\n",
    "    spike_tsA[bnd_pre:bnd_post] = 1\n",
    "\n",
    "\n",
    "spikeTimesB = np.random.randint(0, N, int(N*spikeNumB))\n",
    "\n",
    "for t in range(len(spikeTimesB)):\n",
    "    bnd_pre = int(max(0, spikeTimesB[t] - spikeDuration/2))\n",
    "    bnd_post = int(min(N, spikeTimesB[t] + spikeDuration/2))\n",
    "    spike_tsB[bnd_pre:bnd_post] = 1"
   ]
  },
  {
   "cell_type": "code",
   "execution_count": 4,
   "metadata": {},
   "outputs": [
    {
     "data": {
      "image/png": "[encoded data removed]",
      "text/plain": [
       "<Figure size 640x480 with 1 Axes>"
      ]
     },
     "metadata": {},
     "output_type": "display_data"
    }
   ],
   "source": [
    "plt.plot(range(N), spike_tsA, range(N), spike_tsB)\n",
    "plt.ylim([-0.1, 1.2])\n",
    "plt.show()"
   ]
  },
  {
   "cell_type": "code",
   "execution_count": 7,
   "metadata": {},
   "outputs": [
    {
     "name": "stdout",
     "output_type": "stream",
     "text": [
      "0.0947 0.3919 0.0359\n"
     ]
    }
   ],
   "source": [
    "# compute probability of spike B given spike A\n",
    "\n",
    "probA = np.sum(spike_tsA == 1)/N\n",
    "probB = np.mean(spike_tsB)\n",
    "\n",
    "probAB = np.mean(spike_tsA + spike_tsB == 2)\n",
    "\n",
    "print(probA, probB, probAB)"
   ]
  },
  {
   "cell_type": "code",
   "execution_count": 6,
   "metadata": {},
   "outputs": [
    {
     "data": {
      "text/plain": [
       "0.0947"
      ]
     },
     "execution_count": 6,
     "metadata": {},
     "output_type": "execute_result"
    }
   ],
   "source": [
    "probA"
   ]
  },
  {
   "cell_type": "code",
   "execution_count": null,
   "metadata": {},
   "outputs": [],
   "source": []
  }
 ],
 "metadata": {
  "kernelspec": {
   "display_name": "tf",
   "language": "python",
   "name": "python3"
  },
  "language_info": {
   "codemirror_mode": {
    "name": "ipython",
    "version": 3
   },
   "file_extension": ".py",
   "mimetype": "text/x-python",
   "name": "python",
   "nbconvert_exporter": "python",
   "pygments_lexer": "ipython3",
   "version": "3.9.16"
  },
  "orig_nbformat": 4
 },
 "nbformat": 4,
 "nbformat_minor": 2
}
