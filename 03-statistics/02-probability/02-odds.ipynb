{
 "cells": [
  {
   "attachments": {},
   "cell_type": "markdown",
   "metadata": {},
   "source": [
    "# Probability vs. Odds\n",
    "\n",
    "Probability and odds are two different ways of expressing the same information.\n",
    "\n",
    "Odds in gambling. Odds are 6:1\n",
    "\n",
    "Odds is the ratio of the probability that the event will occur to the probability that the event will not occur.\n",
    "\n",
    "Odds of 6:1 means that there are 6 chances that the event will occur and 1 chance that the event will not occur.\n",
    "\n",
    "$$ r = \\frac{p}{1-p} $$\n",
    "\n",
    "## Example\n",
    "\n",
    "What are the odds of drawing a king from a deck of cards?\n",
    "\n",
    "$$ r = \\frac{4}{52-4} = \\frac{4}{48} = \\frac{1}{12} $$"
   ]
  },
  {
   "attachments": {},
   "cell_type": "markdown",
   "metadata": {},
   "source": []
  }
 ],
 "metadata": {
  "kernelspec": {
   "display_name": "tf",
   "language": "python",
   "name": "python3"
  },
  "language_info": {
   "name": "python",
   "version": "3.9.16"
  },
  "orig_nbformat": 4
 },
 "nbformat": 4,
 "nbformat_minor": 2
}
