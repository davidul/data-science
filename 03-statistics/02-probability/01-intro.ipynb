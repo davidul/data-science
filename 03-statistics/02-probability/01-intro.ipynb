{
 "cells": [
  {
   "attachments": {},
   "cell_type": "markdown",
   "metadata": {},
   "source": [
    "# Probability\n",
    "\n",
    "Probability is numerical description of how likely an\n",
    "event is to occur or how likely it is that a proposition is true. Probability\n",
    "is number between 0 and 1, where, roughly speaking, 0 indicates impossibility\n",
    "and 1 indicates certainty. \n",
    "\n",
    "The sum of all probabilities of all possible outcomes is 1.\n",
    "\n",
    "Probability is a measure of the likelihood or chance that a particular event or outcome will occur. It quantifies the uncertainty associated with an event and is expressed as a value between 0 and 1, where 0 represents an event that is impossible, and 1 represents an event that is certain to occur.\n",
    "\n",
    "In probability theory, an event is a specific outcome or a collection of outcomes of an experiment or a random phenomenon. The probability of an event A is denoted as P(A) and is calculated by dividing the number of favorable outcomes by the total number of possible outcomes.\n",
    "\n",
    "The basic properties of probability include:\n",
    "- The probability of any event is always between 0 and 1, inclusive: 0 ≤ P(A) ≤ 1.\n",
    "- The sum of probabilities of all possible outcomes in an experiment is equal to 1.\n",
    "- The probability of the complement of an event A (not A) is equal to 1 minus the probability of A: P(not A) = 1 - P(A).\n",
    "\n",
    "If two events A and B are mutually exclusive (they cannot occur simultaneously), then the probability of either event occurring is the sum of their individual probabilities: $P(A or B) = P(A) + P(B)$.\n",
    "Probability theory provides a framework for analyzing and predicting the outcomes of random events or uncertain situations. It is widely used in various fields, including mathematics, statistics, physics, economics, and computer science, to model and understand uncertainty and make informed decisions based on the likelihood of different outcomes.\n",
    "\n",
    "## Probability vs proportion\n",
    "\n",
    "Probability is the likelihood of an event occurring or that statement is true.\n",
    "\n",
    "Proportion is the fraction of the population that has a certain property.\n",
    "\n"
   ]
  }
 ],
 "metadata": {
  "kernelspec": {
   "display_name": "tf",
   "language": "python",
   "name": "python3"
  },
  "language_info": {
   "codemirror_mode": {
    "name": "ipython",
    "version": 3
   },
   "file_extension": ".py",
   "mimetype": "text/x-python",
   "name": "python",
   "nbconvert_exporter": "python",
   "pygments_lexer": "ipython3",
   "version": "3.9.16"
  },
  "orig_nbformat": 4
 },
 "nbformat": 4,
 "nbformat_minor": 2
}
