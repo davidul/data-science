{
 "cells": [
  {
   "attachments": {},
   "cell_type": "markdown",
   "metadata": {},
   "source": [
    "# Expected value\n",
    "\n",
    "Mean:\n",
    "\n",
    "$ \\mu = \\frac{1}{n} \\sum_{i=1}^n x_i $\n",
    "\n",
    "Expected value: \n",
    "\n",
    "$ E[x] = \\sum_{i=1}^n x_i p_i $\n",
    "\n",
    "When they are same? if $p_i = \\frac{1}{n}$, all data are equally likely.\n",
    "\n",
    "Average is an empirical sample estimate based on finite data.\n",
    "\n",
    "Expected value is the expected average in the population.\n",
    "\n",
    "## Example\n",
    "Illegal die example:\n",
    "\n",
    "p1 = 1/4, p2 = 1/4, p3 = 1/8, p4 = 1/8, p5 = 1/8, p6 = 1/8\n",
    "\n",
    "$ E[x] = 1 \\times \\frac{1}{4} + 2 \\times \\frac{1}{4} + 3 \\times \\frac{1}{8} + 4 \\times \\frac{1}{8} + 5 \\times \\frac{1}{8} + 6 \\times \\frac{1}{8} = 3 $\n",
    "\n",
    "8 random rolls:\n",
    "\n",
    "1 3 4 4 4 3 2 5\n",
    "\n",
    "$ \\mu = \\frac{1}{8} \\sum_{i=1}^8 x_i = \\frac{1+3+4+4+4+3+2+5}{8} = \\frac{26}{8} = 3.25 $\n",
    "\n",
    "## Geometric representation\n",
    "Balance point of a distribution. Left right balance."
   ]
  },
  {
   "cell_type": "code",
   "execution_count": 2,
   "metadata": {},
   "outputs": [
    {
     "data": {
      "text/plain": [
       "3.0"
      ]
     },
     "execution_count": 2,
     "metadata": {},
     "output_type": "execute_result"
    }
   ],
   "source": [
    "1/4 + 2/4 + 3/8 + 4/8 + 5/8 + 6/8"
   ]
  },
  {
   "cell_type": "code",
   "execution_count": null,
   "metadata": {},
   "outputs": [],
   "source": []
  }
 ],
 "metadata": {
  "kernelspec": {
   "display_name": "tf",
   "language": "python",
   "name": "python3"
  },
  "language_info": {
   "codemirror_mode": {
    "name": "ipython",
    "version": 3
   },
   "file_extension": ".py",
   "mimetype": "text/x-python",
   "name": "python",
   "nbconvert_exporter": "python",
   "pygments_lexer": "ipython3",
   "version": "3.9.16"
  },
  "orig_nbformat": 4
 },
 "nbformat": 4,
 "nbformat_minor": 2
}
