{
 "cells": [
  {
   "attachments": {},
   "cell_type": "markdown",
   "metadata": {},
   "source": [
    "# Entropy and Cross Entropy\n",
    "\n",
    "$H = - \\Sigma_{i=1}^{n} p(x_i) log_2(p(x_i)) $\n",
    "\n",
    "x = data values\n",
    "\n",
    "p = probability\n",
    "\n",
    "High entropy means that dataset has a lot of variability. Low entropy means that most of the values\n",
    "of the dataset repeat (and therefore are redundant)\n",
    "\n",
    "How does entropy differs from variance? \n",
    "\n",
    "Entropy is nonlinear and makes no assumptions about the distribution. Variance depends\n",
    "on the validity of the mean and therefore is appropriate for roughly normal data."
   ]
  },
  {
   "cell_type": "code",
   "execution_count": 2,
   "metadata": {},
   "outputs": [
    {
     "name": "stdout",
     "output_type": "stream",
     "text": [
      "Entropy : 0.5623351446188083\n"
     ]
    }
   ],
   "source": [
    "import numpy as np\n",
    "\n",
    "p = .25\n",
    "\n",
    "x = [.25, .75] # two events, p & 1-p\n",
    "H = 0\n",
    "for p in x:\n",
    "    H -= p * np.log(p)\n",
    "\n",
    "print('Entropy : ' + str(H))"
   ]
  },
  {
   "cell_type": "code",
   "execution_count": 4,
   "metadata": {},
   "outputs": [
    {
     "name": "stdout",
     "output_type": "stream",
     "text": [
      "Entropy:0.5623351446188083\n"
     ]
    }
   ],
   "source": [
    "# For two events\n",
    "\n",
    "H = - (p*np.log(p) + (1-p)*np.log(1-p))\n",
    "print('Entropy:' + str(H))"
   ]
  },
  {
   "cell_type": "code",
   "execution_count": null,
   "metadata": {},
   "outputs": [],
   "source": []
  }
 ],
 "metadata": {
  "kernelspec": {
   "display_name": "tf2",
   "language": "python",
   "name": "python3"
  },
  "language_info": {
   "codemirror_mode": {
    "name": "ipython",
    "version": 3
   },
   "file_extension": ".py",
   "mimetype": "text/x-python",
   "name": "python",
   "nbconvert_exporter": "python",
   "pygments_lexer": "ipython3",
   "version": "3.10.4"
  },
  "orig_nbformat": 4
 },
 "nbformat": 4,
 "nbformat_minor": 2
}
