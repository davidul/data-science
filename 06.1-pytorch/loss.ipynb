{
 "cells": [
  {
   "cell_type": "markdown",
   "metadata": {},
   "source": [
    "# Loss Functions\n",
    "\n",
    "`L1Loss` - Mean Absolute Error (MAE)"
   ]
  },
  {
   "cell_type": "code",
   "execution_count": 11,
   "metadata": {},
   "outputs": [
    {
     "name": "stdout",
     "output_type": "stream",
     "text": [
      "tensor([[-0.4671, -0.9228, -0.9067,  0.0081,  0.2449],\n",
      "        [ 1.7616, -1.3756, -0.7164,  0.7715,  0.7248],\n",
      "        [-0.9655,  1.1971, -0.5458, -1.4074, -0.6427]], requires_grad=True)\n",
      "tensor([[ 0.5656,  1.0783,  1.0019, -1.1987, -1.2161],\n",
      "        [-0.9970,  0.3744,  0.8165,  2.5514, -0.8201],\n",
      "        [ 0.3276, -1.0930,  1.7484,  0.9336,  0.0459]])\n",
      "tensor(1.7256, grad_fn=<MeanBackward0>)\n",
      "None\n",
      "None\n",
      "tensor(1., grad_fn=<MeanBackward0>)\n",
      "tensor([[1., 1., 1.],\n",
      "        [1., 1., 1.]], grad_fn=<AbsBackward0>)\n"
     ]
    }
   ],
   "source": [
    "import torch\n",
    "import torch.nn as nn\n",
    "\n",
    "loss = nn.L1Loss()\n",
    "input = torch.randn(3, 5, requires_grad=True)\n",
    "target = torch.randn(3, 5)\n",
    "output = loss(input, target)\n",
    "#output.backward()\n",
    "print(input)\n",
    "print(target)\n",
    "print(output)\n",
    "print(input.grad)\n",
    "print(output.backward())\n",
    "\n",
    "i = torch.tensor([[1., 2., 3.], [4., 5., 6.]], requires_grad=True)\n",
    "t = torch.tensor([[0., 1., 2.], [3., 4., 5.]])\n",
    "o = loss(i, t)\n",
    "print(o)\n",
    "delta = torch.abs(i - t)\n",
    "print(delta)"
   ]
  },
  {
   "cell_type": "code",
   "execution_count": null,
   "metadata": {},
   "outputs": [],
   "source": []
  }
 ],
 "metadata": {
  "kernelspec": {
   "display_name": "tf",
   "language": "python",
   "name": "python3"
  },
  "language_info": {
   "codemirror_mode": {
    "name": "ipython",
    "version": 3
   },
   "file_extension": ".py",
   "mimetype": "text/x-python",
   "name": "python",
   "nbconvert_exporter": "python",
   "pygments_lexer": "ipython3",
   "version": "3.9.16"
  },
  "orig_nbformat": 4
 },
 "nbformat": 4,
 "nbformat_minor": 2
}
