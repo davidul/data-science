{
 "cells": [
  {
   "cell_type": "code",
   "execution_count": 2,
   "metadata": {},
   "outputs": [],
   "source": [
    "import torch\n",
    "import torch.nn as nn\n",
    "import numpy as np\n",
    "import matplotlib.pyplot as plt\n",
    "from sklearn.model_selection import train_test_split\n",
    "\n",
    "from torch.utils.data import DataLoader\n",
    "\n",
    "import seaborn as sns"
   ]
  },
  {
   "cell_type": "code",
   "execution_count": 17,
   "metadata": {},
   "outputs": [],
   "source": [
    "iris = sns.load_dataset('iris')\n",
    "\n",
    "data = torch.tensor(iris[iris.columns[0:4]].values).float()\n",
    "\n",
    "labels = torch.zeros(len(data), dtype=torch.long)\n",
    "labels[iris.species == 'versicolor'] = 1\n",
    "labels[iris.species == 'virginica'] = 2"
   ]
  },
  {
   "cell_type": "code",
   "execution_count": 4,
   "metadata": {},
   "outputs": [
    {
     "name": "stdout",
     "output_type": "stream",
     "text": [
      "[[ 11  12  13  14]\n",
      " [ 21  22  23  24]\n",
      " [ 31  32  33  34]\n",
      " [ 41  42  43  44]\n",
      " [ 51  52  53  54]\n",
      " [ 61  62  63  64]\n",
      " [ 71  72  73  74]\n",
      " [ 81  82  83  84]\n",
      " [ 91  92  93  94]\n",
      " [101 102 103 104]]\n",
      "[False False False False False  True  True  True  True  True]\n"
     ]
    }
   ],
   "source": [
    "# fake data\n",
    "fakedata = np.tile(np.array([1, 2, 3, 4]), (10, 1)) + np.tile(10*np.arange(1,11), (4, 1)).T\n",
    "fakelabels = np.arange(10)>4\n",
    "print(fakedata)\n",
    "print(fakelabels)"
   ]
  },
  {
   "cell_type": "code",
   "execution_count": 5,
   "metadata": {},
   "outputs": [
    {
     "name": "stdout",
     "output_type": "stream",
     "text": [
      "<torch.utils.data.dataloader.DataLoader object at 0x7fd59911e520>\n",
      "1\n"
     ]
    }
   ],
   "source": [
    "fakedataLdr = DataLoader(fakedata, shuffle=True)\n",
    "print(fakedataLdr)\n",
    "print(fakedataLdr.batch_size)"
   ]
  },
  {
   "cell_type": "code",
   "execution_count": 6,
   "metadata": {},
   "outputs": [
    {
     "name": "stdout",
     "output_type": "stream",
     "text": [
      "0 torch.Size([1, 4]) tensor([[21, 22, 23, 24]])\n",
      "1 torch.Size([1, 4]) tensor([[31, 32, 33, 34]])\n",
      "2 torch.Size([1, 4]) tensor([[81, 82, 83, 84]])\n",
      "3 torch.Size([1, 4]) tensor([[11, 12, 13, 14]])\n",
      "4 torch.Size([1, 4]) tensor([[91, 92, 93, 94]])\n",
      "5 torch.Size([1, 4]) tensor([[101, 102, 103, 104]])\n",
      "6 torch.Size([1, 4]) tensor([[71, 72, 73, 74]])\n",
      "7 torch.Size([1, 4]) tensor([[51, 52, 53, 54]])\n",
      "8 torch.Size([1, 4]) tensor([[41, 42, 43, 44]])\n",
      "9 torch.Size([1, 4]) tensor([[61, 62, 63, 64]])\n"
     ]
    }
   ],
   "source": [
    "# iterate over data\n",
    "for i, data in enumerate(fakedataLdr):\n",
    "    print(i, data.shape, data)"
   ]
  },
  {
   "cell_type": "code",
   "execution_count": 11,
   "metadata": {},
   "outputs": [
    {
     "name": "stdout",
     "output_type": "stream",
     "text": [
      "tensor([[81, 82, 83, 84]]) tensor([True])\n",
      "tensor([[71, 72, 73, 74]]) tensor([True])\n",
      "tensor([[21, 22, 23, 24]]) tensor([False])\n",
      "tensor([[51, 52, 53, 54]]) tensor([False])\n",
      "tensor([[31, 32, 33, 34]]) tensor([False])\n",
      "tensor([[101, 102, 103, 104]]) tensor([True])\n",
      "tensor([[91, 92, 93, 94]]) tensor([True])\n",
      "tensor([[61, 62, 63, 64]]) tensor([True])\n",
      "tensor([[41, 42, 43, 44]]) tensor([False])\n",
      "tensor([[11, 12, 13, 14]]) tensor([False])\n"
     ]
    }
   ],
   "source": [
    "fakeDataset = torch.utils.data.TensorDataset(torch.tensor(fakedata), torch.tensor(fakelabels))\n",
    "#print(fakeDataset.tensors)\n",
    "\n",
    "fakeDatasetLdr = DataLoader(fakeDataset, shuffle=True)\n",
    "for dat, lab in fakeDatasetLdr:\n",
    "    print(dat, lab)"
   ]
  },
  {
   "cell_type": "code",
   "execution_count": 12,
   "metadata": {},
   "outputs": [],
   "source": [
    "train_data, test_data, train_labels, test_labels = train_test_split(fakedata, fakelabels, test_size=0.2)\n",
    "\n",
    "train_data = torch.utils.data.TensorDataset(torch.tensor(train_data), torch.tensor(train_labels))\n",
    "\n",
    "test_data = torch.utils.data.TensorDataset(torch.tensor(test_data), torch.tensor(test_labels))\n",
    "\n",
    "train_loader = DataLoader(train_data, batch_size=4, shuffle=True)\n",
    "test_loader = DataLoader(test_data, batch_size=4, shuffle=True)"
   ]
  },
  {
   "cell_type": "code",
   "execution_count": 15,
   "metadata": {},
   "outputs": [
    {
     "name": "stdout",
     "output_type": "stream",
     "text": [
      "TRAINING DATA\n",
      "tensor([[ 51,  52,  53,  54],\n",
      "        [101, 102, 103, 104],\n",
      "        [ 71,  72,  73,  74],\n",
      "        [ 91,  92,  93,  94]]) tensor([False,  True,  True,  True])\n",
      "tensor([[61, 62, 63, 64],\n",
      "        [21, 22, 23, 24],\n",
      "        [11, 12, 13, 14],\n",
      "        [81, 82, 83, 84]]) tensor([ True, False, False,  True])\n",
      " \n",
      "TEST DATA\n",
      "tensor([[41, 42, 43, 44],\n",
      "        [31, 32, 33, 34]]) tensor([False, False])\n"
     ]
    }
   ],
   "source": [
    "print(\"TRAINING DATA\")\n",
    "for batch, lab in train_loader:\n",
    "    print(batch, lab) \n",
    "\n",
    "print(' ')\n",
    "\n",
    "print(\"TEST DATA\")\n",
    "for batch, lab in test_loader:\n",
    "    print(batch, lab)"
   ]
  },
  {
   "attachments": {},
   "cell_type": "markdown",
   "metadata": {},
   "source": [
    "# Back to real data "
   ]
  },
  {
   "cell_type": "code",
   "execution_count": 21,
   "metadata": {},
   "outputs": [],
   "source": [
    "train_data, test_data, train_labels, test_labels = train_test_split(data, labels, test_size=0.2)\n",
    "\n",
    "train_data = torch.utils.data.TensorDataset(train_data, train_labels)\n",
    "test_data = torch.utils.data.TensorDataset(test_data, test_labels)\n",
    "\n",
    "train_loader = DataLoader(train_data, batch_size=12, shuffle=True)\n",
    "test_loader = DataLoader(test_data, batch_size=test_data.tensors[0].shape[0])\n"
   ]
  },
  {
   "cell_type": "code",
   "execution_count": 22,
   "metadata": {},
   "outputs": [
    {
     "name": "stdout",
     "output_type": "stream",
     "text": [
      "torch.Size([12, 4]) torch.Size([12])\n",
      "torch.Size([12, 4]) torch.Size([12])\n",
      "torch.Size([12, 4]) torch.Size([12])\n",
      "torch.Size([12, 4]) torch.Size([12])\n",
      "torch.Size([12, 4]) torch.Size([12])\n",
      "torch.Size([12, 4]) torch.Size([12])\n",
      "torch.Size([12, 4]) torch.Size([12])\n",
      "torch.Size([12, 4]) torch.Size([12])\n",
      "torch.Size([12, 4]) torch.Size([12])\n",
      "torch.Size([12, 4]) torch.Size([12])\n"
     ]
    }
   ],
   "source": [
    "for x,y in train_loader:\n",
    "    print(x.shape, y.shape)"
   ]
  },
  {
   "cell_type": "code",
   "execution_count": 25,
   "metadata": {},
   "outputs": [],
   "source": [
    "def createANewModel():\n",
    "    ANNiris = nn.Sequential(\n",
    "        nn.Linear(4, 64),\n",
    "        nn.ReLU(),\n",
    "        nn.Linear(64, 64),\n",
    "        nn.ReLU(),\n",
    "        nn.Linear(64, 3)\n",
    "    )\n",
    "\n",
    "    # define the loss function\n",
    "    loss_fn = nn.CrossEntropyLoss()\n",
    "\n",
    "    # define the optimizer\n",
    "    learning_rate = 1e-2\n",
    "    optimizer = torch.optim.SGD(ANNiris.parameters(), lr=learning_rate)\n",
    "    return ANNiris, loss_fn, optimizer"
   ]
  },
  {
   "cell_type": "code",
   "execution_count": 28,
   "metadata": {},
   "outputs": [],
   "source": [
    "numepochs = 500\n",
    "\n",
    "def trainModel():\n",
    "    trainAcc = []\n",
    "    testAcc = []\n",
    "\n",
    "    for epochi in range(numepochs):\n",
    "        batchAcc = []\n",
    "        for x, y in train_loader:\n",
    "            yHat = ANNiris(x)\n",
    "            loss = loss_fn(yHat, y)\n",
    "            optimizer.zero_grad()\n",
    "            loss.backward()\n",
    "            optimizer.step()\n",
    "\n",
    "            batchAcc.append((torch.argmax(yHat, dim=1) == y).float().mean())\n",
    "    \n",
    "\n",
    "        trainAcc.append(np.mean(batchAcc))\n",
    "\n",
    "        x,y = next(iter(test_loader))\n",
    "        predlabels = torch.argmax(ANNiris(x), dim=1)\n",
    "        testAcc.append((predlabels == y).float().mean())\n",
    "    return trainAcc, testAcc"
   ]
  },
  {
   "attachments": {},
   "cell_type": "markdown",
   "metadata": {},
   "source": [
    "# Modeling"
   ]
  },
  {
   "cell_type": "code",
   "execution_count": 29,
   "metadata": {},
   "outputs": [],
   "source": [
    "ANNiris, loss_fn, optimizer = createANewModel()\n",
    "trainAcc, testAcc = trainModel()"
   ]
  },
  {
   "cell_type": "code",
   "execution_count": 30,
   "metadata": {},
   "outputs": [
    {
     "data": {
      "text/plain": [
       "<matplotlib.legend.Legend at 0x7fd56e34c910>"
      ]
     },
     "execution_count": 30,
     "metadata": {},
     "output_type": "execute_result"
    },
    {
     "data": {
      "image/png": "[encoded data removed]",
      "text/plain": [
       "<Figure size 1000x500 with 1 Axes>"
      ]
     },
     "metadata": {},
     "output_type": "display_data"
    }
   ],
   "source": [
    "fig = plt.figure(figsize=(10, 5))\n",
    "plt.plot(trainAcc, 'ro-', label='train')\n",
    "plt.plot(testAcc, 'bs-', label='test')\n",
    "plt.xlabel('epoch')\n",
    "plt.ylabel('accuracy')\n",
    "plt.legend()"
   ]
  },
  {
   "cell_type": "code",
   "execution_count": null,
   "metadata": {},
   "outputs": [],
   "source": []
  }
 ],
 "metadata": {
  "kernelspec": {
   "display_name": "tf",
   "language": "python",
   "name": "python3"
  },
  "language_info": {
   "codemirror_mode": {
    "name": "ipython",
    "version": 3
   },
   "file_extension": ".py",
   "mimetype": "text/x-python",
   "name": "python",
   "nbconvert_exporter": "python",
   "pygments_lexer": "ipython3",
   "version": "3.9.16"
  },
  "orig_nbformat": 4
 },
 "nbformat": 4,
 "nbformat_minor": 2
}
