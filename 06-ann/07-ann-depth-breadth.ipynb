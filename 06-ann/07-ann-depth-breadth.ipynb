{
 "cells": [
  {
   "cell_type": "code",
   "execution_count": 1,
   "metadata": {},
   "outputs": [
    {
     "name": "stdout",
     "output_type": "stream",
     "text": [
      "Intel MKL WARNING: Support of Intel(R) Streaming SIMD Extensions 4.2 (Intel(R) SSE4.2) enabled only processors has been deprecated. Intel oneAPI Math Kernel Library 2025.0 will require Intel(R) Advanced Vector Extensions (Intel(R) AVX) instructions.\n",
      "Intel MKL WARNING: Support of Intel(R) Streaming SIMD Extensions 4.2 (Intel(R) SSE4.2) enabled only processors has been deprecated. Intel oneAPI Math Kernel Library 2025.0 will require Intel(R) Advanced Vector Extensions (Intel(R) AVX) instructions.\n"
     ]
    }
   ],
   "source": [
    "import torch\n",
    "import torch.nn as nn\n",
    "import numpy as np\n"
   ]
  },
  {
   "cell_type": "code",
   "execution_count": 2,
   "metadata": {},
   "outputs": [
    {
     "name": "stdout",
     "output_type": "stream",
     "text": [
      "Sequential(\n",
      "  (0): Linear(in_features=2, out_features=4, bias=True)\n",
      "  (1): Linear(in_features=4, out_features=3, bias=True)\n",
      ")\n",
      " \n",
      "Sequential(\n",
      "  (0): Linear(in_features=2, out_features=2, bias=True)\n",
      "  (1): Linear(in_features=2, out_features=2, bias=True)\n",
      "  (2): Linear(in_features=2, out_features=3, bias=True)\n",
      ")\n"
     ]
    }
   ],
   "source": [
    "widenet = nn.Sequential(\n",
    "    nn.Linear(2,4),\n",
    "    nn.Linear(4,3)\n",
    ")\n",
    "\n",
    "deepnet = nn.Sequential(\n",
    "    nn.Linear(2,2),\n",
    "    nn.Linear(2,2),\n",
    "    nn.Linear(2,3)\n",
    ")\n",
    "\n",
    "print(widenet)\n",
    "print(' ')\n",
    "print(deepnet)"
   ]
  },
  {
   "cell_type": "code",
   "execution_count": 3,
   "metadata": {},
   "outputs": [
    {
     "name": "stdout",
     "output_type": "stream",
     "text": [
      "('0.weight', Parameter containing:\n",
      "tensor([[ 0.2843, -0.4676],\n",
      "        [-0.6863,  0.1479]], requires_grad=True))\n",
      " \n",
      "('0.bias', Parameter containing:\n",
      "tensor([-0.1568,  0.3226], requires_grad=True))\n",
      " \n",
      "('1.weight', Parameter containing:\n",
      "tensor([[-0.3646, -0.2420],\n",
      "        [-0.7023, -0.0985]], requires_grad=True))\n",
      " \n",
      "('1.bias', Parameter containing:\n",
      "tensor([-0.2852, -0.0274], requires_grad=True))\n",
      " \n",
      "('2.weight', Parameter containing:\n",
      "tensor([[ 0.6583,  0.3020],\n",
      "        [-0.1817,  0.5524],\n",
      "        [ 0.6123,  0.3236]], requires_grad=True))\n",
      " \n",
      "('2.bias', Parameter containing:\n",
      "tensor([-0.4114,  0.0176,  0.2001], requires_grad=True))\n",
      " \n"
     ]
    }
   ],
   "source": [
    "for p in deepnet.named_parameters():\n",
    "    print(p)\n",
    "    print(' ')"
   ]
  },
  {
   "cell_type": "code",
   "execution_count": 4,
   "metadata": {},
   "outputs": [
    {
     "name": "stdout",
     "output_type": "stream",
     "text": [
      "There are 7 nodes in the wide network\n",
      "There are 7 nodes in the deep network\n"
     ]
    }
   ],
   "source": [
    "# count the number of nodes\n",
    "numNodesInWide = 0\n",
    "for p in widenet.named_parameters():\n",
    "    if 'bias' in p[0]:\n",
    "        numNodesInWide += len(p[1])\n",
    "\n",
    "\n",
    "numNodesInDeep = 0\n",
    "for paramName,paramVect in deepnet.named_parameters():\n",
    "    if 'bias' in paramName:\n",
    "        numNodesInDeep += len(paramVect)\n",
    "\n",
    "\n",
    "print('There are %s nodes in the wide network' %numNodesInWide)\n",
    "print('There are %s nodes in the deep network' %numNodesInDeep)"
   ]
  },
  {
   "cell_type": "code",
   "execution_count": 5,
   "metadata": {},
   "outputs": [
    {
     "name": "stdout",
     "output_type": "stream",
     "text": [
      "Parameter containing:\n",
      "tensor([[-0.0007, -0.4727],\n",
      "        [-0.4263,  0.3281],\n",
      "        [-0.3237,  0.2185],\n",
      "        [-0.4421, -0.4200]], requires_grad=True)\n",
      " \n",
      "Parameter containing:\n",
      "tensor([-0.5582,  0.0524, -0.4269,  0.6716], requires_grad=True)\n",
      " \n",
      "Parameter containing:\n",
      "tensor([[-0.0913,  0.0148,  0.2052, -0.0500],\n",
      "        [ 0.1111,  0.3503, -0.2161, -0.4373],\n",
      "        [-0.0655, -0.0807,  0.1223, -0.3779]], requires_grad=True)\n",
      " \n",
      "Parameter containing:\n",
      "tensor([ 0.4269, -0.3215,  0.0352], requires_grad=True)\n",
      " \n"
     ]
    }
   ],
   "source": [
    "# just the parameters\n",
    "for p in widenet.parameters():\n",
    "    print(p)\n",
    "    print(' ')"
   ]
  },
  {
   "cell_type": "code",
   "execution_count": 6,
   "metadata": {},
   "outputs": [
    {
     "name": "stdout",
     "output_type": "stream",
     "text": [
      "This piece has 8 parameters\n",
      "This piece has 4 parameters\n",
      "This piece has 12 parameters\n",
      "This piece has 3 parameters\n",
      "\n",
      "\n",
      "Total parameters of 27 parameters\n"
     ]
    }
   ],
   "source": [
    "# count the number of trainble parameters\n",
    "nparams = 0\n",
    "for p in widenet.parameters():\n",
    "    if p.requires_grad:\n",
    "        print('This piece has %s parameters' %p.numel())\n",
    "        nparams += p.numel()\n",
    "\n",
    "print('\\n\\nTotal parameters of %s parameters' %nparams)"
   ]
  },
  {
   "cell_type": "code",
   "execution_count": 7,
   "metadata": {},
   "outputs": [
    {
     "name": "stdout",
     "output_type": "stream",
     "text": [
      "Deepnet has  21 parameters\n"
     ]
    }
   ],
   "source": [
    "# list comprehension\n",
    "nparams = np.sum([p.numel() for p in deepnet.parameters() if p.requires_grad])\n",
    "print('Deepnet has  %s parameters'%nparams)"
   ]
  },
  {
   "cell_type": "code",
   "execution_count": 10,
   "metadata": {},
   "outputs": [
    {
     "name": "stdout",
     "output_type": "stream",
     "text": [
      "Collecting torch-summary\n",
      "  Downloading torch_summary-1.4.5-py3-none-any.whl (16 kB)\n",
      "Installing collected packages: torch-summary\n",
      "Successfully installed torch-summary-1.4.5\n"
     ]
    }
   ],
   "source": [
    "!pip install torch-summary"
   ]
  },
  {
   "cell_type": "code",
   "execution_count": 12,
   "metadata": {},
   "outputs": [
    {
     "name": "stdout",
     "output_type": "stream",
     "text": [
      "==========================================================================================\n",
      "Layer (type:depth-idx)                   Output Shape              Param #\n",
      "==========================================================================================\n",
      "├─Linear: 1-1                            [-1, 1, 4]                12\n",
      "├─Linear: 1-2                            [-1, 1, 3]                15\n",
      "==========================================================================================\n",
      "Total params: 27\n",
      "Trainable params: 27\n",
      "Non-trainable params: 0\n",
      "Total mult-adds (M): 0.00\n",
      "==========================================================================================\n",
      "Input size (MB): 0.00\n",
      "Forward/backward pass size (MB): 0.00\n",
      "Params size (MB): 0.00\n",
      "Estimated Total Size (MB): 0.00\n",
      "==========================================================================================\n"
     ]
    },
    {
     "data": {
      "text/plain": [
       "==========================================================================================\n",
       "Layer (type:depth-idx)                   Output Shape              Param #\n",
       "==========================================================================================\n",
       "├─Linear: 1-1                            [-1, 1, 4]                12\n",
       "├─Linear: 1-2                            [-1, 1, 3]                15\n",
       "==========================================================================================\n",
       "Total params: 27\n",
       "Trainable params: 27\n",
       "Non-trainable params: 0\n",
       "Total mult-adds (M): 0.00\n",
       "==========================================================================================\n",
       "Input size (MB): 0.00\n",
       "Forward/backward pass size (MB): 0.00\n",
       "Params size (MB): 0.00\n",
       "Estimated Total Size (MB): 0.00\n",
       "=========================================================================================="
      ]
     },
     "execution_count": 12,
     "metadata": {},
     "output_type": "execute_result"
    }
   ],
   "source": [
    "from torchsummary import summary\n",
    "\n",
    "summary(widenet, (1,2))"
   ]
  },
  {
   "cell_type": "code",
   "execution_count": null,
   "metadata": {},
   "outputs": [],
   "source": []
  }
 ],
 "metadata": {
  "kernelspec": {
   "display_name": "tf",
   "language": "python",
   "name": "python3"
  },
  "language_info": {
   "codemirror_mode": {
    "name": "ipython",
    "version": 3
   },
   "file_extension": ".py",
   "mimetype": "text/x-python",
   "name": "python",
   "nbconvert_exporter": "python",
   "pygments_lexer": "ipython3",
   "version": "3.9.16"
  },
  "orig_nbformat": 4
 },
 "nbformat": 4,
 "nbformat_minor": 2
}
