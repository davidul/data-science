{
 "cells": [
  {
   "cell_type": "code",
   "execution_count": 1,
   "metadata": {},
   "outputs": [
    {
     "name": "stdout",
     "output_type": "stream",
     "text": [
      "Intel MKL WARNING: Support of Intel(R) Streaming SIMD Extensions 4.2 (Intel(R) SSE4.2) enabled only processors has been deprecated. Intel oneAPI Math Kernel Library 2025.0 will require Intel(R) Advanced Vector Extensions (Intel(R) AVX) instructions.\n",
      "Intel MKL WARNING: Support of Intel(R) Streaming SIMD Extensions 4.2 (Intel(R) SSE4.2) enabled only processors has been deprecated. Intel oneAPI Math Kernel Library 2025.0 will require Intel(R) Advanced Vector Extensions (Intel(R) AVX) instructions.\n"
     ]
    }
   ],
   "source": [
    "import torch\n",
    "import torch.nn as nn\n",
    "import numpy as np\n"
   ]
  },
  {
   "cell_type": "code",
   "execution_count": 2,
   "metadata": {},
   "outputs": [
    {
     "name": "stdout",
     "output_type": "stream",
     "text": [
      "Sequential(\n",
      "  (0): Linear(in_features=2, out_features=4, bias=True)\n",
      "  (1): Linear(in_features=4, out_features=3, bias=True)\n",
      ")\n",
      " \n",
      "Sequential(\n",
      "  (0): Linear(in_features=2, out_features=2, bias=True)\n",
      "  (1): Linear(in_features=2, out_features=2, bias=True)\n",
      "  (2): Linear(in_features=2, out_features=3, bias=True)\n",
      ")\n"
     ]
    }
   ],
   "source": [
    "widenet = nn.Sequential(\n",
    "    nn.Linear(2,4),\n",
    "    nn.Linear(4,3)\n",
    ")\n",
    "\n",
    "deepnet = nn.Sequential(\n",
    "    nn.Linear(2,2),\n",
    "    nn.Linear(2,2),\n",
    "    nn.Linear(2,3)\n",
    ")\n",
    "\n",
    "print(widenet)\n",
    "print(' ')\n",
    "print(deepnet)"
   ]
  },
  {
   "cell_type": "code",
   "execution_count": 3,
   "metadata": {},
   "outputs": [
    {
     "name": "stdout",
     "output_type": "stream",
     "text": [
      "('0.weight', Parameter containing:\n",
      "tensor([[ 0.5420, -0.6334],\n",
      "        [-0.2011,  0.4125]], requires_grad=True))\n",
      " \n",
      "('0.bias', Parameter containing:\n",
      "tensor([-0.0745,  0.5533], requires_grad=True))\n",
      " \n",
      "('1.weight', Parameter containing:\n",
      "tensor([[ 0.3058,  0.6522],\n",
      "        [-0.4566, -0.3749]], requires_grad=True))\n",
      " \n",
      "('1.bias', Parameter containing:\n",
      "tensor([-0.4030,  0.5050], requires_grad=True))\n",
      " \n",
      "('2.weight', Parameter containing:\n",
      "tensor([[-0.3501,  0.1676],\n",
      "        [ 0.1946, -0.3107],\n",
      "        [ 0.5291, -0.6638]], requires_grad=True))\n",
      " \n",
      "('2.bias', Parameter containing:\n",
      "tensor([-0.3257,  0.1374, -0.3755], requires_grad=True))\n",
      " \n"
     ]
    }
   ],
   "source": [
    "for p in deepnet.named_parameters():\n",
    "    print(p)\n",
    "    print(' ')"
   ]
  },
  {
   "cell_type": "code",
   "execution_count": null,
   "metadata": {},
   "outputs": [],
   "source": []
  }
 ],
 "metadata": {
  "kernelspec": {
   "display_name": "tf",
   "language": "python",
   "name": "python3"
  },
  "language_info": {
   "codemirror_mode": {
    "name": "ipython",
    "version": 3
   },
   "file_extension": ".py",
   "mimetype": "text/x-python",
   "name": "python",
   "nbconvert_exporter": "python",
   "pygments_lexer": "ipython3",
   "version": "3.9.16"
  },
  "orig_nbformat": 4
 },
 "nbformat": 4,
 "nbformat_minor": 2
}
